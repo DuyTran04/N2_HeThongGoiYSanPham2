{
 "cells": [
  {
   "cell_type": "markdown",
   "id": "9b2053d6-2660-4643-ba65-b6ee1837d6f3",
   "metadata": {},
   "source": [
    "#  Packages"
   ]
  },
  {
   "cell_type": "code",
   "execution_count": 1,
   "id": "35f518c0-cde9-4cd7-987b-17bc611c3a63",
   "metadata": {},
   "outputs": [],
   "source": [
    "import torch\n",
    "import torch.nn as nn\n",
    "import torch.optim as optim\n",
    "import numpy as np\n",
    "import pandas as pd\n",
    "import matplotlib.pyplot as plt\n",
    "import seaborn as sns\n",
    "from sklearn.model_selection import train_test_split\n",
    "from sklearn.preprocessing import LabelEncoder\n",
    "from tqdm import tqdm\n",
    "import pickle"
   ]
  },
  {
   "cell_type": "markdown",
   "id": "81d278e5-1001-4f3c-a90c-8c4f4c3217cd",
   "metadata": {},
   "source": [
    "\n",
    "# Load và xem dữ liệu"
   ]
  },
  {
   "cell_type": "code",
   "execution_count": 2,
   "id": "6515884f-0173-46eb-8ca6-1719e5df8c27",
   "metadata": {},
   "outputs": [
    {
     "name": "stdout",
     "output_type": "stream",
     "text": [
      "Kích thước dữ liệu ban đầu: (1465, 16)\n"
     ]
    },
    {
     "data": {
      "text/html": [
       "<div>\n",
       "<style scoped>\n",
       "    .dataframe tbody tr th:only-of-type {\n",
       "        vertical-align: middle;\n",
       "    }\n",
       "\n",
       "    .dataframe tbody tr th {\n",
       "        vertical-align: top;\n",
       "    }\n",
       "\n",
       "    .dataframe thead th {\n",
       "        text-align: right;\n",
       "    }\n",
       "</style>\n",
       "<table border=\"1\" class=\"dataframe\">\n",
       "  <thead>\n",
       "    <tr style=\"text-align: right;\">\n",
       "      <th></th>\n",
       "      <th>product_id</th>\n",
       "      <th>product_name</th>\n",
       "      <th>category</th>\n",
       "      <th>discounted_price</th>\n",
       "      <th>actual_price</th>\n",
       "      <th>discount_percentage</th>\n",
       "      <th>rating</th>\n",
       "      <th>rating_count</th>\n",
       "      <th>about_product</th>\n",
       "      <th>user_id</th>\n",
       "      <th>user_name</th>\n",
       "      <th>review_id</th>\n",
       "      <th>review_title</th>\n",
       "      <th>review_content</th>\n",
       "      <th>img_link</th>\n",
       "      <th>product_link</th>\n",
       "    </tr>\n",
       "  </thead>\n",
       "  <tbody>\n",
       "    <tr>\n",
       "      <th>0</th>\n",
       "      <td>B07JW9H4J1</td>\n",
       "      <td>Wayona Nylon Braided USB to Lightning Fast Cha...</td>\n",
       "      <td>Computers&amp;Accessories|Accessories&amp;Peripherals|...</td>\n",
       "      <td>₹399</td>\n",
       "      <td>₹1,099</td>\n",
       "      <td>64%</td>\n",
       "      <td>4.2</td>\n",
       "      <td>24,269</td>\n",
       "      <td>High Compatibility : Compatible With iPhone 12...</td>\n",
       "      <td>AG3D6O4STAQKAY2UVGEUV46KN35Q,AHMY5CWJMMK5BJRBB...</td>\n",
       "      <td>Manav,Adarsh gupta,Sundeep,S.Sayeed Ahmed,jasp...</td>\n",
       "      <td>R3HXWT0LRP0NMF,R2AJM3LFTLZHFO,R6AQJGUP6P86,R1K...</td>\n",
       "      <td>Satisfied,Charging is really fast,Value for mo...</td>\n",
       "      <td>Looks durable Charging is fine tooNo complains...</td>\n",
       "      <td>https://m.media-amazon.com/images/W/WEBP_40237...</td>\n",
       "      <td>https://www.amazon.in/Wayona-Braided-WN3LG1-Sy...</td>\n",
       "    </tr>\n",
       "    <tr>\n",
       "      <th>1</th>\n",
       "      <td>B098NS6PVG</td>\n",
       "      <td>Ambrane Unbreakable 60W / 3A Fast Charging 1.5...</td>\n",
       "      <td>Computers&amp;Accessories|Accessories&amp;Peripherals|...</td>\n",
       "      <td>₹199</td>\n",
       "      <td>₹349</td>\n",
       "      <td>43%</td>\n",
       "      <td>4.0</td>\n",
       "      <td>43,994</td>\n",
       "      <td>Compatible with all Type C enabled devices, be...</td>\n",
       "      <td>AECPFYFQVRUWC3KGNLJIOREFP5LQ,AGYYVPDD7YG7FYNBX...</td>\n",
       "      <td>ArdKn,Nirbhay kumar,Sagar Viswanathan,Asp,Plac...</td>\n",
       "      <td>RGIQEG07R9HS2,R1SMWZQ86XIN8U,R2J3Y1WL29GWDE,RY...</td>\n",
       "      <td>A Good Braided Cable for Your Type C Device,Go...</td>\n",
       "      <td>I ordered this cable to connect my phone to An...</td>\n",
       "      <td>https://m.media-amazon.com/images/W/WEBP_40237...</td>\n",
       "      <td>https://www.amazon.in/Ambrane-Unbreakable-Char...</td>\n",
       "    </tr>\n",
       "    <tr>\n",
       "      <th>2</th>\n",
       "      <td>B096MSW6CT</td>\n",
       "      <td>Sounce Fast Phone Charging Cable &amp; Data Sync U...</td>\n",
       "      <td>Computers&amp;Accessories|Accessories&amp;Peripherals|...</td>\n",
       "      <td>₹199</td>\n",
       "      <td>₹1,899</td>\n",
       "      <td>90%</td>\n",
       "      <td>3.9</td>\n",
       "      <td>7,928</td>\n",
       "      <td>【 Fast Charger&amp; Data Sync】-With built-in safet...</td>\n",
       "      <td>AGU3BBQ2V2DDAMOAKGFAWDDQ6QHA,AESFLDV2PT363T2AQ...</td>\n",
       "      <td>Kunal,Himanshu,viswanath,sai niharka,saqib mal...</td>\n",
       "      <td>R3J3EQQ9TZI5ZJ,R3E7WBGK7ID0KV,RWU79XKQ6I1QF,R2...</td>\n",
       "      <td>Good speed for earlier versions,Good Product,W...</td>\n",
       "      <td>Not quite durable and sturdy,https://m.media-a...</td>\n",
       "      <td>https://m.media-amazon.com/images/W/WEBP_40237...</td>\n",
       "      <td>https://www.amazon.in/Sounce-iPhone-Charging-C...</td>\n",
       "    </tr>\n",
       "    <tr>\n",
       "      <th>3</th>\n",
       "      <td>B08HDJ86NZ</td>\n",
       "      <td>boAt Deuce USB 300 2 in 1 Type-C &amp; Micro USB S...</td>\n",
       "      <td>Computers&amp;Accessories|Accessories&amp;Peripherals|...</td>\n",
       "      <td>₹329</td>\n",
       "      <td>₹699</td>\n",
       "      <td>53%</td>\n",
       "      <td>4.2</td>\n",
       "      <td>94,363</td>\n",
       "      <td>The boAt Deuce USB 300 2 in 1 cable is compati...</td>\n",
       "      <td>AEWAZDZZJLQUYVOVGBEUKSLXHQ5A,AG5HTSFRRE6NL3M5S...</td>\n",
       "      <td>Omkar dhale,JD,HEMALATHA,Ajwadh a.,amar singh ...</td>\n",
       "      <td>R3EEUZKKK9J36I,R3HJVYCLYOY554,REDECAZ7AMPQC,R1...</td>\n",
       "      <td>Good product,Good one,Nice,Really nice product...</td>\n",
       "      <td>Good product,long wire,Charges good,Nice,I bou...</td>\n",
       "      <td>https://m.media-amazon.com/images/I/41V5FtEWPk...</td>\n",
       "      <td>https://www.amazon.in/Deuce-300-Resistant-Tang...</td>\n",
       "    </tr>\n",
       "    <tr>\n",
       "      <th>4</th>\n",
       "      <td>B08CF3B7N1</td>\n",
       "      <td>Portronics Konnect L 1.2M Fast Charging 3A 8 P...</td>\n",
       "      <td>Computers&amp;Accessories|Accessories&amp;Peripherals|...</td>\n",
       "      <td>₹154</td>\n",
       "      <td>₹399</td>\n",
       "      <td>61%</td>\n",
       "      <td>4.2</td>\n",
       "      <td>16,905</td>\n",
       "      <td>[CHARGE &amp; SYNC FUNCTION]- This cable comes wit...</td>\n",
       "      <td>AE3Q6KSUK5P75D5HFYHCRAOLODSA,AFUGIFH5ZAFXRDSZH...</td>\n",
       "      <td>rahuls6099,Swasat Borah,Ajay Wadke,Pranali,RVK...</td>\n",
       "      <td>R1BP4L2HH9TFUP,R16PVJEXKV6QZS,R2UPDB81N66T4P,R...</td>\n",
       "      <td>As good as original,Decent,Good one for second...</td>\n",
       "      <td>Bought this instead of original apple, does th...</td>\n",
       "      <td>https://m.media-amazon.com/images/W/WEBP_40237...</td>\n",
       "      <td>https://www.amazon.in/Portronics-Konnect-POR-1...</td>\n",
       "    </tr>\n",
       "  </tbody>\n",
       "</table>\n",
       "</div>"
      ],
      "text/plain": [
       "   product_id                                       product_name  \\\n",
       "0  B07JW9H4J1  Wayona Nylon Braided USB to Lightning Fast Cha...   \n",
       "1  B098NS6PVG  Ambrane Unbreakable 60W / 3A Fast Charging 1.5...   \n",
       "2  B096MSW6CT  Sounce Fast Phone Charging Cable & Data Sync U...   \n",
       "3  B08HDJ86NZ  boAt Deuce USB 300 2 in 1 Type-C & Micro USB S...   \n",
       "4  B08CF3B7N1  Portronics Konnect L 1.2M Fast Charging 3A 8 P...   \n",
       "\n",
       "                                            category discounted_price  \\\n",
       "0  Computers&Accessories|Accessories&Peripherals|...             ₹399   \n",
       "1  Computers&Accessories|Accessories&Peripherals|...             ₹199   \n",
       "2  Computers&Accessories|Accessories&Peripherals|...             ₹199   \n",
       "3  Computers&Accessories|Accessories&Peripherals|...             ₹329   \n",
       "4  Computers&Accessories|Accessories&Peripherals|...             ₹154   \n",
       "\n",
       "  actual_price discount_percentage rating rating_count  \\\n",
       "0       ₹1,099                 64%    4.2       24,269   \n",
       "1         ₹349                 43%    4.0       43,994   \n",
       "2       ₹1,899                 90%    3.9        7,928   \n",
       "3         ₹699                 53%    4.2       94,363   \n",
       "4         ₹399                 61%    4.2       16,905   \n",
       "\n",
       "                                       about_product  \\\n",
       "0  High Compatibility : Compatible With iPhone 12...   \n",
       "1  Compatible with all Type C enabled devices, be...   \n",
       "2  【 Fast Charger& Data Sync】-With built-in safet...   \n",
       "3  The boAt Deuce USB 300 2 in 1 cable is compati...   \n",
       "4  [CHARGE & SYNC FUNCTION]- This cable comes wit...   \n",
       "\n",
       "                                             user_id  \\\n",
       "0  AG3D6O4STAQKAY2UVGEUV46KN35Q,AHMY5CWJMMK5BJRBB...   \n",
       "1  AECPFYFQVRUWC3KGNLJIOREFP5LQ,AGYYVPDD7YG7FYNBX...   \n",
       "2  AGU3BBQ2V2DDAMOAKGFAWDDQ6QHA,AESFLDV2PT363T2AQ...   \n",
       "3  AEWAZDZZJLQUYVOVGBEUKSLXHQ5A,AG5HTSFRRE6NL3M5S...   \n",
       "4  AE3Q6KSUK5P75D5HFYHCRAOLODSA,AFUGIFH5ZAFXRDSZH...   \n",
       "\n",
       "                                           user_name  \\\n",
       "0  Manav,Adarsh gupta,Sundeep,S.Sayeed Ahmed,jasp...   \n",
       "1  ArdKn,Nirbhay kumar,Sagar Viswanathan,Asp,Plac...   \n",
       "2  Kunal,Himanshu,viswanath,sai niharka,saqib mal...   \n",
       "3  Omkar dhale,JD,HEMALATHA,Ajwadh a.,amar singh ...   \n",
       "4  rahuls6099,Swasat Borah,Ajay Wadke,Pranali,RVK...   \n",
       "\n",
       "                                           review_id  \\\n",
       "0  R3HXWT0LRP0NMF,R2AJM3LFTLZHFO,R6AQJGUP6P86,R1K...   \n",
       "1  RGIQEG07R9HS2,R1SMWZQ86XIN8U,R2J3Y1WL29GWDE,RY...   \n",
       "2  R3J3EQQ9TZI5ZJ,R3E7WBGK7ID0KV,RWU79XKQ6I1QF,R2...   \n",
       "3  R3EEUZKKK9J36I,R3HJVYCLYOY554,REDECAZ7AMPQC,R1...   \n",
       "4  R1BP4L2HH9TFUP,R16PVJEXKV6QZS,R2UPDB81N66T4P,R...   \n",
       "\n",
       "                                        review_title  \\\n",
       "0  Satisfied,Charging is really fast,Value for mo...   \n",
       "1  A Good Braided Cable for Your Type C Device,Go...   \n",
       "2  Good speed for earlier versions,Good Product,W...   \n",
       "3  Good product,Good one,Nice,Really nice product...   \n",
       "4  As good as original,Decent,Good one for second...   \n",
       "\n",
       "                                      review_content  \\\n",
       "0  Looks durable Charging is fine tooNo complains...   \n",
       "1  I ordered this cable to connect my phone to An...   \n",
       "2  Not quite durable and sturdy,https://m.media-a...   \n",
       "3  Good product,long wire,Charges good,Nice,I bou...   \n",
       "4  Bought this instead of original apple, does th...   \n",
       "\n",
       "                                            img_link  \\\n",
       "0  https://m.media-amazon.com/images/W/WEBP_40237...   \n",
       "1  https://m.media-amazon.com/images/W/WEBP_40237...   \n",
       "2  https://m.media-amazon.com/images/W/WEBP_40237...   \n",
       "3  https://m.media-amazon.com/images/I/41V5FtEWPk...   \n",
       "4  https://m.media-amazon.com/images/W/WEBP_40237...   \n",
       "\n",
       "                                        product_link  \n",
       "0  https://www.amazon.in/Wayona-Braided-WN3LG1-Sy...  \n",
       "1  https://www.amazon.in/Ambrane-Unbreakable-Char...  \n",
       "2  https://www.amazon.in/Sounce-iPhone-Charging-C...  \n",
       "3  https://www.amazon.in/Deuce-300-Resistant-Tang...  \n",
       "4  https://www.amazon.in/Portronics-Konnect-POR-1...  "
      ]
     },
     "execution_count": 2,
     "metadata": {},
     "output_type": "execute_result"
    }
   ],
   "source": [
    "full_data = pd.read_csv('amazon.csv')\n",
    "print(\"Kích thước dữ liệu ban đầu:\", full_data.shape)\n",
    "full_data.head()"
   ]
  },
  {
   "cell_type": "markdown",
   "id": "e88b187a-e14e-48a3-bd22-018a0ae5ce14",
   "metadata": {},
   "source": [
    "# Loại bỏ các cột không cần thiết"
   ]
  },
  {
   "cell_type": "code",
   "execution_count": 4,
   "id": "9acb7cd6-8232-4703-96ad-21b62f1be1c2",
   "metadata": {},
   "outputs": [
    {
     "name": "stdout",
     "output_type": "stream",
     "text": [
      "\n",
      "Kích thước dữ liệu sau khi loại bỏ các cột: (1465, 8)\n"
     ]
    },
    {
     "data": {
      "text/html": [
       "<div>\n",
       "<style scoped>\n",
       "    .dataframe tbody tr th:only-of-type {\n",
       "        vertical-align: middle;\n",
       "    }\n",
       "\n",
       "    .dataframe tbody tr th {\n",
       "        vertical-align: top;\n",
       "    }\n",
       "\n",
       "    .dataframe thead th {\n",
       "        text-align: right;\n",
       "    }\n",
       "</style>\n",
       "<table border=\"1\" class=\"dataframe\">\n",
       "  <thead>\n",
       "    <tr style=\"text-align: right;\">\n",
       "      <th></th>\n",
       "      <th>product_id</th>\n",
       "      <th>product_name</th>\n",
       "      <th>category</th>\n",
       "      <th>rating</th>\n",
       "      <th>rating_count</th>\n",
       "      <th>user_id</th>\n",
       "      <th>img_link</th>\n",
       "      <th>product_link</th>\n",
       "    </tr>\n",
       "  </thead>\n",
       "  <tbody>\n",
       "    <tr>\n",
       "      <th>0</th>\n",
       "      <td>B07JW9H4J1</td>\n",
       "      <td>Wayona Nylon Braided USB to Lightning Fast Cha...</td>\n",
       "      <td>Computers&amp;Accessories|Accessories&amp;Peripherals|...</td>\n",
       "      <td>4.2</td>\n",
       "      <td>24,269</td>\n",
       "      <td>AG3D6O4STAQKAY2UVGEUV46KN35Q,AHMY5CWJMMK5BJRBB...</td>\n",
       "      <td>https://m.media-amazon.com/images/W/WEBP_40237...</td>\n",
       "      <td>https://www.amazon.in/Wayona-Braided-WN3LG1-Sy...</td>\n",
       "    </tr>\n",
       "    <tr>\n",
       "      <th>1</th>\n",
       "      <td>B098NS6PVG</td>\n",
       "      <td>Ambrane Unbreakable 60W / 3A Fast Charging 1.5...</td>\n",
       "      <td>Computers&amp;Accessories|Accessories&amp;Peripherals|...</td>\n",
       "      <td>4.0</td>\n",
       "      <td>43,994</td>\n",
       "      <td>AECPFYFQVRUWC3KGNLJIOREFP5LQ,AGYYVPDD7YG7FYNBX...</td>\n",
       "      <td>https://m.media-amazon.com/images/W/WEBP_40237...</td>\n",
       "      <td>https://www.amazon.in/Ambrane-Unbreakable-Char...</td>\n",
       "    </tr>\n",
       "    <tr>\n",
       "      <th>2</th>\n",
       "      <td>B096MSW6CT</td>\n",
       "      <td>Sounce Fast Phone Charging Cable &amp; Data Sync U...</td>\n",
       "      <td>Computers&amp;Accessories|Accessories&amp;Peripherals|...</td>\n",
       "      <td>3.9</td>\n",
       "      <td>7,928</td>\n",
       "      <td>AGU3BBQ2V2DDAMOAKGFAWDDQ6QHA,AESFLDV2PT363T2AQ...</td>\n",
       "      <td>https://m.media-amazon.com/images/W/WEBP_40237...</td>\n",
       "      <td>https://www.amazon.in/Sounce-iPhone-Charging-C...</td>\n",
       "    </tr>\n",
       "    <tr>\n",
       "      <th>3</th>\n",
       "      <td>B08HDJ86NZ</td>\n",
       "      <td>boAt Deuce USB 300 2 in 1 Type-C &amp; Micro USB S...</td>\n",
       "      <td>Computers&amp;Accessories|Accessories&amp;Peripherals|...</td>\n",
       "      <td>4.2</td>\n",
       "      <td>94,363</td>\n",
       "      <td>AEWAZDZZJLQUYVOVGBEUKSLXHQ5A,AG5HTSFRRE6NL3M5S...</td>\n",
       "      <td>https://m.media-amazon.com/images/I/41V5FtEWPk...</td>\n",
       "      <td>https://www.amazon.in/Deuce-300-Resistant-Tang...</td>\n",
       "    </tr>\n",
       "    <tr>\n",
       "      <th>4</th>\n",
       "      <td>B08CF3B7N1</td>\n",
       "      <td>Portronics Konnect L 1.2M Fast Charging 3A 8 P...</td>\n",
       "      <td>Computers&amp;Accessories|Accessories&amp;Peripherals|...</td>\n",
       "      <td>4.2</td>\n",
       "      <td>16,905</td>\n",
       "      <td>AE3Q6KSUK5P75D5HFYHCRAOLODSA,AFUGIFH5ZAFXRDSZH...</td>\n",
       "      <td>https://m.media-amazon.com/images/W/WEBP_40237...</td>\n",
       "      <td>https://www.amazon.in/Portronics-Konnect-POR-1...</td>\n",
       "    </tr>\n",
       "  </tbody>\n",
       "</table>\n",
       "</div>"
      ],
      "text/plain": [
       "   product_id                                       product_name  \\\n",
       "0  B07JW9H4J1  Wayona Nylon Braided USB to Lightning Fast Cha...   \n",
       "1  B098NS6PVG  Ambrane Unbreakable 60W / 3A Fast Charging 1.5...   \n",
       "2  B096MSW6CT  Sounce Fast Phone Charging Cable & Data Sync U...   \n",
       "3  B08HDJ86NZ  boAt Deuce USB 300 2 in 1 Type-C & Micro USB S...   \n",
       "4  B08CF3B7N1  Portronics Konnect L 1.2M Fast Charging 3A 8 P...   \n",
       "\n",
       "                                            category rating rating_count  \\\n",
       "0  Computers&Accessories|Accessories&Peripherals|...    4.2       24,269   \n",
       "1  Computers&Accessories|Accessories&Peripherals|...    4.0       43,994   \n",
       "2  Computers&Accessories|Accessories&Peripherals|...    3.9        7,928   \n",
       "3  Computers&Accessories|Accessories&Peripherals|...    4.2       94,363   \n",
       "4  Computers&Accessories|Accessories&Peripherals|...    4.2       16,905   \n",
       "\n",
       "                                             user_id  \\\n",
       "0  AG3D6O4STAQKAY2UVGEUV46KN35Q,AHMY5CWJMMK5BJRBB...   \n",
       "1  AECPFYFQVRUWC3KGNLJIOREFP5LQ,AGYYVPDD7YG7FYNBX...   \n",
       "2  AGU3BBQ2V2DDAMOAKGFAWDDQ6QHA,AESFLDV2PT363T2AQ...   \n",
       "3  AEWAZDZZJLQUYVOVGBEUKSLXHQ5A,AG5HTSFRRE6NL3M5S...   \n",
       "4  AE3Q6KSUK5P75D5HFYHCRAOLODSA,AFUGIFH5ZAFXRDSZH...   \n",
       "\n",
       "                                            img_link  \\\n",
       "0  https://m.media-amazon.com/images/W/WEBP_40237...   \n",
       "1  https://m.media-amazon.com/images/W/WEBP_40237...   \n",
       "2  https://m.media-amazon.com/images/W/WEBP_40237...   \n",
       "3  https://m.media-amazon.com/images/I/41V5FtEWPk...   \n",
       "4  https://m.media-amazon.com/images/W/WEBP_40237...   \n",
       "\n",
       "                                        product_link  \n",
       "0  https://www.amazon.in/Wayona-Braided-WN3LG1-Sy...  \n",
       "1  https://www.amazon.in/Ambrane-Unbreakable-Char...  \n",
       "2  https://www.amazon.in/Sounce-iPhone-Charging-C...  \n",
       "3  https://www.amazon.in/Deuce-300-Resistant-Tang...  \n",
       "4  https://www.amazon.in/Portronics-Konnect-POR-1...  "
      ]
     },
     "execution_count": 4,
     "metadata": {},
     "output_type": "execute_result"
    }
   ],
   "source": [
    "columns_to_drop = [\n",
    "    'discounted_price', 'actual_price', 'discount_percentage',\n",
    "    'about_product', 'user_name', 'review_id', 'review_title',\n",
    "    'review_content'\n",
    "]\n",
    "\n",
    "data = full_data.drop(columns=columns_to_drop)\n",
    "print(\"\\nKích thước dữ liệu sau khi loại bỏ các cột:\", data.shape)\n",
    "data.head()"
   ]
  },
  {
   "cell_type": "markdown",
   "id": "8241059c-5d08-491a-8d5b-c6072e7bcec0",
   "metadata": {},
   "source": [
    "# Kiểm tra phân phối rating"
   ]
  },
  {
   "cell_type": "code",
   "execution_count": 5,
   "id": "85d7f32f-2204-4c8d-9f72-65c56b4950cd",
   "metadata": {},
   "outputs": [
    {
     "data": {
      "image/png": "[encoded data removed]",
      "text/plain": [
       "<Figure size 1500x800 with 1 Axes>"
      ]
     },
     "metadata": {},
     "output_type": "display_data"
    },
    {
     "name": "stdout",
     "output_type": "stream",
     "text": [
      "\n",
      "Thông tin dữ liệu sau khi xử lý:\n",
      "<class 'pandas.core.frame.DataFrame'>\n",
      "Index: 1462 entries, 0 to 1464\n",
      "Data columns (total 8 columns):\n",
      " #   Column        Non-Null Count  Dtype  \n",
      "---  ------        --------------  -----  \n",
      " 0   product_id    1462 non-null   int32  \n",
      " 1   product_name  1462 non-null   object \n",
      " 2   category      1462 non-null   object \n",
      " 3   rating        1462 non-null   float64\n",
      " 4   rating_count  1462 non-null   object \n",
      " 5   user_id       1462 non-null   int32  \n",
      " 6   img_link      1462 non-null   object \n",
      " 7   product_link  1462 non-null   object \n",
      "dtypes: float64(1), int32(2), object(5)\n",
      "memory usage: 91.4+ KB\n",
      "None\n"
     ]
    }
   ],
   "source": [
    "plt.figure(figsize=(15, 8))\n",
    "sns.countplot(data=data.sort_values(by='rating'), x='rating')\n",
    "plt.title('Distribution of Ratings')\n",
    "plt.xlabel('Rating Value')\n",
    "plt.ylabel('Count')\n",
    "plt.show()\n",
    "\n",
    "# %%\n",
    "# Xử lý dữ liệu\n",
    "data = data.dropna()\n",
    "data = data[data.rating != '|']\n",
    "data['rating'] = data['rating'].astype(float)\n",
    "\n",
    "# Encode user_id và product_id\n",
    "product_id_encoder = LabelEncoder()\n",
    "user_id_encoder = LabelEncoder()\n",
    "\n",
    "data['product_id'] = product_id_encoder.fit_transform(data['product_id'])\n",
    "data['user_id'] = user_id_encoder.fit_transform(data['user_id'])\n",
    "\n",
    "print(\"\\nThông tin dữ liệu sau khi xử lý:\")\n",
    "print(data.info())"
   ]
  },
  {
   "cell_type": "markdown",
   "id": "df229196-5f4f-4492-92bd-cafd178cd8ea",
   "metadata": {},
   "source": [
    "# Deep Matrix Factorization Model"
   ]
  },
  {
   "cell_type": "code",
   "execution_count": 6,
   "id": "8490dcb7-964e-4098-89d0-f212344114ce",
   "metadata": {},
   "outputs": [],
   "source": [
    "class DeepMatrixFactorization(nn.Module):\n",
    "    def __init__(self, n_users, n_items, factors=[64, 32, 16, 8]):\n",
    "        super(DeepMatrixFactorization, self).__init__()\n",
    "        \n",
    "        # Embedding layers\n",
    "        self.user_embedding = nn.Embedding(n_users, factors[0])\n",
    "        self.item_embedding = nn.Embedding(n_items, factors[0])\n",
    "        \n",
    "        # User tower\n",
    "        self.user_tower = nn.Sequential(\n",
    "            nn.Linear(factors[0], factors[1]),\n",
    "            nn.ReLU(),\n",
    "            nn.BatchNorm1d(factors[1]),\n",
    "            nn.Dropout(0.2),\n",
    "            nn.Linear(factors[1], factors[2]),\n",
    "            nn.ReLU(),\n",
    "            nn.BatchNorm1d(factors[2]),\n",
    "            nn.Dropout(0.2),\n",
    "            nn.Linear(factors[2], factors[3])\n",
    "        )\n",
    "        \n",
    "        # Item tower\n",
    "        self.item_tower = nn.Sequential(\n",
    "            nn.Linear(factors[0], factors[1]),\n",
    "            nn.ReLU(),\n",
    "            nn.BatchNorm1d(factors[1]),\n",
    "            nn.Dropout(0.2),\n",
    "            nn.Linear(factors[1], factors[2]),\n",
    "            nn.ReLU(),\n",
    "            nn.BatchNorm1d(factors[2]),\n",
    "            nn.Dropout(0.2),\n",
    "            nn.Linear(factors[2], factors[3])\n",
    "        )\n",
    "        \n",
    "        self._init_weights()\n",
    "        \n",
    "    def _init_weights(self):\n",
    "        for m in self.modules():\n",
    "            if isinstance(m, nn.Linear):\n",
    "                nn.init.xavier_uniform_(m.weight)\n",
    "                if m.bias is not None:\n",
    "                    nn.init.zeros_(m.bias)\n",
    "                    \n",
    "    def forward(self, user_ids, item_ids):\n",
    "        # Get embeddings\n",
    "        user_embedded = self.user_embedding(user_ids)\n",
    "        item_embedded = self.item_embedding(item_ids)\n",
    "        \n",
    "        # Pass through towers\n",
    "        user_vector = self.user_tower(user_embedded)\n",
    "        item_vector = self.item_tower(item_embedded)\n",
    "        \n",
    "        # Normalize embeddings\n",
    "        user_vector = nn.functional.normalize(user_vector, p=2, dim=1)\n",
    "        item_vector = nn.functional.normalize(item_vector, p=2, dim=1)\n",
    "        \n",
    "        # Compute prediction\n",
    "        prediction = torch.sum(user_vector * item_vector, dim=1)\n",
    "        return torch.sigmoid(prediction)"
   ]
  },
  {
   "cell_type": "markdown",
   "id": "395850af-8c2d-4ed9-825e-222f2e602a65",
   "metadata": {},
   "source": [
    "# Training Framework"
   ]
  },
  {
   "cell_type": "code",
   "execution_count": 16,
   "id": "cb3958b4-b1ab-4099-b3e4-e6d52ea9c2d1",
   "metadata": {},
   "outputs": [],
   "source": [
    "class DMFTrainer:\n",
    "    def __init__(self, model, learning_rate=0.001):\n",
    "        self.model = model\n",
    "        self.optimizer = optim.Adam(model.parameters(), lr=learning_rate)\n",
    "        self.criterion = nn.BCELoss()\n",
    "        \n",
    "    def train_epoch(self, train_loader):\n",
    "        self.model.train()\n",
    "        total_loss = 0\n",
    "        correct_predictions = 0\n",
    "        total_samples = 0\n",
    "        \n",
    "        for batch in tqdm(train_loader, desc=\"Training\"):\n",
    "            user_ids, item_ids, ratings = batch\n",
    "            \n",
    "            # Forward pass\n",
    "            predictions = self.model(user_ids, item_ids)\n",
    "            loss = self.criterion(predictions, ratings)\n",
    "            \n",
    "            # Accuracy\n",
    "            predicted_labels = (predictions >= 0.5).float()\n",
    "            correct_predictions += (predicted_labels == ratings).sum().item()\n",
    "            total_samples += ratings.size(0)\n",
    "            \n",
    "            # Backward pass\n",
    "            self.optimizer.zero_grad()\n",
    "            loss.backward()\n",
    "            self.optimizer.step()\n",
    "            \n",
    "            total_loss += loss.item()\n",
    "            \n",
    "        return total_loss / len(train_loader), correct_predictions / total_samples\n",
    "\n",
    "    def evaluate(self, val_loader):\n",
    "        self.model.eval()\n",
    "        total_loss = 0\n",
    "        correct_predictions = 0\n",
    "        total_samples = 0\n",
    "        \n",
    "        with torch.no_grad():\n",
    "            for batch in val_loader:\n",
    "                user_ids, item_ids, ratings = batch\n",
    "                predictions = self.model(user_ids, item_ids)\n",
    "                loss = self.criterion(predictions, ratings)\n",
    "                \n",
    "                predicted_labels = (predictions >= 0.5).float()\n",
    "                correct_predictions += (predicted_labels == ratings).sum().item()\n",
    "                total_samples += ratings.size(0)\n",
    "                \n",
    "                total_loss += loss.item()\n",
    "                \n",
    "        return total_loss / len(val_loader), correct_predictions / total_samples"
   ]
  },
  {
   "cell_type": "markdown",
   "id": "f16e6b79-1471-4976-b38a-b3334e1a0c5c",
   "metadata": {},
   "source": [
    "# Dataset"
   ]
  },
  {
   "cell_type": "code",
   "execution_count": 15,
   "id": "bb1223b9-ff3c-483d-bd38-9c8bc66444ac",
   "metadata": {},
   "outputs": [],
   "source": [
    "class RecommenderDataset(torch.utils.data.Dataset):\n",
    "    def __init__(self, df, rating_range=5.0):\n",
    "        self.users = torch.LongTensor(df['user_id'].values)\n",
    "        self.items = torch.LongTensor(df['product_id'].values)\n",
    "        self.ratings = torch.FloatTensor(df['rating'].values) / rating_range\n",
    "        \n",
    "    def __len__(self):\n",
    "        return len(self.users)\n",
    "        \n",
    "    def __getitem__(self, idx):\n",
    "        return self.users[idx], self.items[idx], self.ratings[idx]"
   ]
  },
  {
   "cell_type": "markdown",
   "id": "31623ae1-437c-4d16-89fe-adb89d7844ba",
   "metadata": {},
   "source": [
    "# Split data"
   ]
  },
  {
   "cell_type": "code",
   "execution_count": 9,
   "id": "bea97edd-5c8a-4852-8b6b-2e4f9a8de38c",
   "metadata": {},
   "outputs": [
    {
     "name": "stdout",
     "output_type": "stream",
     "text": [
      "Train size: 1169\n",
      "Test size: 293\n"
     ]
    }
   ],
   "source": [
    "Train, Test = train_test_split(data, test_size=0.2, random_state=42)\n",
    "print(\"Train size:\", len(Train))\n",
    "print(\"Test size:\", len(Test))"
   ]
  },
  {
   "cell_type": "markdown",
   "id": "bc837e71-f694-4dc5-ace6-279efe9c8244",
   "metadata": {},
   "source": [
    "# Create datasets and dataloaders"
   ]
  },
  {
   "cell_type": "code",
   "execution_count": 14,
   "id": "a7bd6cd8-119c-432e-b5eb-caae4810d603",
   "metadata": {},
   "outputs": [],
   "source": [
    "train_dataset = RecommenderDataset(Train)\n",
    "test_dataset = RecommenderDataset(Test)\n",
    "\n",
    "train_loader = torch.utils.data.DataLoader(\n",
    "    train_dataset, batch_size=128, shuffle=True\n",
    ")\n",
    "test_loader = torch.utils.data.DataLoader(\n",
    "    test_dataset, batch_size=128\n",
    ")"
   ]
  },
  {
   "cell_type": "markdown",
   "id": "eee4e3da-4c4e-42d5-9189-89ba1fe54598",
   "metadata": {},
   "source": [
    "# Initialize and train model"
   ]
  },
  {
   "cell_type": "code",
   "execution_count": 11,
   "id": "6f2ad92f-d24a-4383-8957-deae3f171a74",
   "metadata": {},
   "outputs": [],
   "source": [
    "n_users = len(data['user_id'].unique())\n",
    "n_items = len(data['product_id'].unique())\n",
    "model = DeepMatrixFactorization(n_users, n_items)\n",
    "trainer = DMFTrainer(model)"
   ]
  },
  {
   "cell_type": "markdown",
   "id": "7c0220bd-54ec-4d3e-bf95-07d1ab1f3063",
   "metadata": {},
   "source": [
    "# Training loop"
   ]
  },
  {
   "cell_type": "code",
   "execution_count": 12,
   "id": "5b82e870-94c0-4d5a-b793-0c7da3be9677",
   "metadata": {},
   "outputs": [
    {
     "name": "stdout",
     "output_type": "stream",
     "text": [
      "Starting training...\n"
     ]
    },
    {
     "name": "stderr",
     "output_type": "stream",
     "text": [
      "Training: 100%|████████████████████████████████████████████████████████████████████████| 10/10 [00:00<00:00, 50.21it/s]\n",
      "Training: 100%|████████████████████████████████████████████████████████████████████████| 10/10 [00:00<00:00, 58.06it/s]\n",
      "Training: 100%|████████████████████████████████████████████████████████████████████████| 10/10 [00:00<00:00, 45.69it/s]\n",
      "Training: 100%|████████████████████████████████████████████████████████████████████████| 10/10 [00:00<00:00, 80.27it/s]\n",
      "Training: 100%|████████████████████████████████████████████████████████████████████████| 10/10 [00:00<00:00, 72.26it/s]\n"
     ]
    },
    {
     "name": "stdout",
     "output_type": "stream",
     "text": [
      "\n",
      "Epoch [5/50]\n",
      "Train Loss: 0.6832, Train Accuracy: 0.0009\n",
      "Test Loss: 0.7001, Test Accuracy: 0.0000\n"
     ]
    },
    {
     "name": "stderr",
     "output_type": "stream",
     "text": [
      "Training: 100%|████████████████████████████████████████████████████████████████████████| 10/10 [00:00<00:00, 77.06it/s]\n",
      "Training: 100%|████████████████████████████████████████████████████████████████████████| 10/10 [00:00<00:00, 60.11it/s]\n",
      "Training: 100%|████████████████████████████████████████████████████████████████████████| 10/10 [00:00<00:00, 75.41it/s]\n",
      "Training: 100%|████████████████████████████████████████████████████████████████████████| 10/10 [00:00<00:00, 67.57it/s]\n",
      "Training: 100%|████████████████████████████████████████████████████████████████████████| 10/10 [00:00<00:00, 57.39it/s]\n"
     ]
    },
    {
     "name": "stdout",
     "output_type": "stream",
     "text": [
      "\n",
      "Epoch [10/50]\n",
      "Train Loss: 0.6600, Train Accuracy: 0.0017\n",
      "Test Loss: 0.6791, Test Accuracy: 0.0000\n"
     ]
    },
    {
     "name": "stderr",
     "output_type": "stream",
     "text": [
      "Training: 100%|████████████████████████████████████████████████████████████████████████| 10/10 [00:00<00:00, 79.91it/s]\n",
      "Training: 100%|████████████████████████████████████████████████████████████████████████| 10/10 [00:00<00:00, 56.34it/s]\n",
      "Training: 100%|████████████████████████████████████████████████████████████████████████| 10/10 [00:00<00:00, 74.36it/s]\n",
      "Training: 100%|████████████████████████████████████████████████████████████████████████| 10/10 [00:00<00:00, 62.03it/s]\n",
      "Training: 100%|████████████████████████████████████████████████████████████████████████| 10/10 [00:00<00:00, 88.01it/s]\n"
     ]
    },
    {
     "name": "stdout",
     "output_type": "stream",
     "text": [
      "\n",
      "Epoch [15/50]\n",
      "Train Loss: 0.6429, Train Accuracy: 0.0017\n",
      "Test Loss: 0.6560, Test Accuracy: 0.0000\n"
     ]
    },
    {
     "name": "stderr",
     "output_type": "stream",
     "text": [
      "Training: 100%|████████████████████████████████████████████████████████████████████████| 10/10 [00:00<00:00, 69.58it/s]\n",
      "Training: 100%|████████████████████████████████████████████████████████████████████████| 10/10 [00:00<00:00, 76.43it/s]\n",
      "Training: 100%|████████████████████████████████████████████████████████████████████████| 10/10 [00:00<00:00, 80.92it/s]\n",
      "Training: 100%|████████████████████████████████████████████████████████████████████████| 10/10 [00:00<00:00, 76.79it/s]\n",
      "Training: 100%|████████████████████████████████████████████████████████████████████████| 10/10 [00:00<00:00, 71.09it/s]\n"
     ]
    },
    {
     "name": "stdout",
     "output_type": "stream",
     "text": [
      "\n",
      "Epoch [20/50]\n",
      "Train Loss: 0.6167, Train Accuracy: 0.0009\n",
      "Test Loss: 0.6367, Test Accuracy: 0.0000\n"
     ]
    },
    {
     "name": "stderr",
     "output_type": "stream",
     "text": [
      "Training: 100%|████████████████████████████████████████████████████████████████████████| 10/10 [00:00<00:00, 87.22it/s]\n",
      "Training: 100%|████████████████████████████████████████████████████████████████████████| 10/10 [00:00<00:00, 88.79it/s]\n",
      "Training: 100%|████████████████████████████████████████████████████████████████████████| 10/10 [00:00<00:00, 80.27it/s]\n",
      "Training: 100%|████████████████████████████████████████████████████████████████████████| 10/10 [00:00<00:00, 80.19it/s]\n",
      "Training: 100%|████████████████████████████████████████████████████████████████████████| 10/10 [00:00<00:00, 85.03it/s]\n"
     ]
    },
    {
     "name": "stdout",
     "output_type": "stream",
     "text": [
      "\n",
      "Epoch [25/50]\n",
      "Train Loss: 0.6043, Train Accuracy: 0.0017\n",
      "Test Loss: 0.6141, Test Accuracy: 0.0000\n"
     ]
    },
    {
     "name": "stderr",
     "output_type": "stream",
     "text": [
      "Training: 100%|████████████████████████████████████████████████████████████████████████| 10/10 [00:00<00:00, 93.77it/s]\n",
      "Training: 100%|████████████████████████████████████████████████████████████████████████| 10/10 [00:00<00:00, 78.02it/s]\n",
      "Training: 100%|████████████████████████████████████████████████████████████████████████| 10/10 [00:00<00:00, 76.59it/s]\n",
      "Training: 100%|████████████████████████████████████████████████████████████████████████| 10/10 [00:00<00:00, 85.03it/s]\n",
      "Training: 100%|████████████████████████████████████████████████████████████████████████| 10/10 [00:00<00:00, 85.03it/s]\n"
     ]
    },
    {
     "name": "stdout",
     "output_type": "stream",
     "text": [
      "\n",
      "Epoch [30/50]\n",
      "Train Loss: 0.5796, Train Accuracy: 0.0017\n",
      "Test Loss: 0.5875, Test Accuracy: 0.0000\n"
     ]
    },
    {
     "name": "stderr",
     "output_type": "stream",
     "text": [
      "Training: 100%|████████████████████████████████████████████████████████████████████████| 10/10 [00:00<00:00, 84.66it/s]\n",
      "Training: 100%|████████████████████████████████████████████████████████████████████████| 10/10 [00:00<00:00, 85.03it/s]\n",
      "Training: 100%|████████████████████████████████████████████████████████████████████████| 10/10 [00:00<00:00, 80.24it/s]\n",
      "Training: 100%|████████████████████████████████████████████████████████████████████████| 10/10 [00:00<00:00, 85.76it/s]\n",
      "Training: 100%|████████████████████████████████████████████████████████████████████████| 10/10 [00:00<00:00, 78.34it/s]\n"
     ]
    },
    {
     "name": "stdout",
     "output_type": "stream",
     "text": [
      "\n",
      "Epoch [35/50]\n",
      "Train Loss: 0.5562, Train Accuracy: 0.0017\n",
      "Test Loss: 0.5676, Test Accuracy: 0.0000\n"
     ]
    },
    {
     "name": "stderr",
     "output_type": "stream",
     "text": [
      "Training: 100%|████████████████████████████████████████████████████████████████████████| 10/10 [00:00<00:00, 88.35it/s]\n",
      "Training: 100%|████████████████████████████████████████████████████████████████████████| 10/10 [00:00<00:00, 95.56it/s]\n",
      "Training: 100%|████████████████████████████████████████████████████████████████████████| 10/10 [00:00<00:00, 90.39it/s]\n",
      "Training: 100%|████████████████████████████████████████████████████████████████████████| 10/10 [00:00<00:00, 81.56it/s]\n",
      "Training: 100%|████████████████████████████████████████████████████████████████████████| 10/10 [00:00<00:00, 86.50it/s]\n"
     ]
    },
    {
     "name": "stdout",
     "output_type": "stream",
     "text": [
      "\n",
      "Epoch [40/50]\n",
      "Train Loss: 0.5463, Train Accuracy: 0.0017\n",
      "Test Loss: 0.5471, Test Accuracy: 0.0000\n"
     ]
    },
    {
     "name": "stderr",
     "output_type": "stream",
     "text": [
      "Training: 100%|████████████████████████████████████████████████████████████████████████| 10/10 [00:00<00:00, 76.43it/s]\n",
      "Training: 100%|████████████████████████████████████████████████████████████████████████| 10/10 [00:00<00:00, 77.78it/s]\n",
      "Training: 100%|████████████████████████████████████████████████████████████████████████| 10/10 [00:00<00:00, 86.88it/s]\n",
      "Training: 100%|████████████████████████████████████████████████████████████████████████| 10/10 [00:00<00:00, 80.52it/s]\n",
      "Training: 100%|████████████████████████████████████████████████████████████████████████| 10/10 [00:00<00:00, 95.56it/s]\n"
     ]
    },
    {
     "name": "stdout",
     "output_type": "stream",
     "text": [
      "\n",
      "Epoch [45/50]\n",
      "Train Loss: 0.5308, Train Accuracy: 0.0017\n",
      "Test Loss: 0.5332, Test Accuracy: 0.0000\n"
     ]
    },
    {
     "name": "stderr",
     "output_type": "stream",
     "text": [
      "Training: 100%|████████████████████████████████████████████████████████████████████████| 10/10 [00:00<00:00, 84.28it/s]\n",
      "Training: 100%|████████████████████████████████████████████████████████████████████████| 10/10 [00:00<00:00, 81.57it/s]\n",
      "Training: 100%|████████████████████████████████████████████████████████████████████████| 10/10 [00:00<00:00, 85.76it/s]\n",
      "Training: 100%|████████████████████████████████████████████████████████████████████████| 10/10 [00:00<00:00, 74.32it/s]\n",
      "Training: 100%|████████████████████████████████████████████████████████████████████████| 10/10 [00:00<00:00, 77.78it/s]\n"
     ]
    },
    {
     "name": "stdout",
     "output_type": "stream",
     "text": [
      "\n",
      "Epoch [50/50]\n",
      "Train Loss: 0.5213, Train Accuracy: 0.0017\n",
      "Test Loss: 0.5237, Test Accuracy: 0.0000\n"
     ]
    }
   ],
   "source": [
    "num_epochs = 50\n",
    "train_losses = []\n",
    "test_losses = []\n",
    "train_accs = []\n",
    "test_accs = []\n",
    "\n",
    "print(\"Starting training...\")\n",
    "for epoch in range(num_epochs):\n",
    "    # Train\n",
    "    train_loss, train_acc = trainer.train_epoch(train_loader)\n",
    "    train_losses.append(train_loss)\n",
    "    train_accs.append(train_acc)\n",
    "    \n",
    "    # Evaluate\n",
    "    test_loss, test_acc = trainer.evaluate(test_loader)\n",
    "    test_losses.append(test_loss)\n",
    "    test_accs.append(test_acc)\n",
    "    \n",
    "    if (epoch + 1) % 5 == 0:\n",
    "        print(f'\\nEpoch [{epoch+1}/{num_epochs}]')\n",
    "        print(f'Train Loss: {train_loss:.4f}, Train Accuracy: {train_acc:.4f}')\n",
    "        print(f'Test Loss: {test_loss:.4f}, Test Accuracy: {test_acc:.4f}')"
   ]
  },
  {
   "cell_type": "markdown",
   "id": "381c5769-b4a0-4654-9f90-2473495d71b3",
   "metadata": {},
   "source": [
    "# Plot training results"
   ]
  },
  {
   "cell_type": "code",
   "execution_count": 13,
   "id": "2d4b870e-6af1-4e34-8fa0-780fa9f12229",
   "metadata": {},
   "outputs": [
    {
     "data": {
      "text/plain": [
       "<Figure size 1200x400 with 0 Axes>"
      ]
     },
     "execution_count": 13,
     "metadata": {},
     "output_type": "execute_result"
    },
    {
     "data": {
      "text/plain": [
       "<Figure size 1200x400 with 0 Axes>"
      ]
     },
     "metadata": {},
     "output_type": "display_data"
    }
   ],
   "source": [
    "plt.figure(figsize=(12, 4))"
   ]
  },
  {
   "cell_type": "markdown",
   "id": "562c07f6-8c4e-42ad-b708-1fa324abeb99",
   "metadata": {},
   "source": [
    "# Plot Loss"
   ]
  },
  {
   "cell_type": "code",
   "execution_count": 17,
   "id": "51aae79f-655b-4a69-95e8-a08d37eb3354",
   "metadata": {},
   "outputs": [
    {
     "data": {
      "text/plain": [
       "<matplotlib.legend.Legend at 0x225b29b3d40>"
      ]
     },
     "execution_count": 17,
     "metadata": {},
     "output_type": "execute_result"
    },
    {
     "data": {
      "image/png": "[encoded data removed]",
      "text/plain": [
       "<Figure size 640x480 with 1 Axes>"
      ]
     },
     "metadata": {},
     "output_type": "display_data"
    }
   ],
   "source": [
    "plt.subplot(1, 2, 1)\n",
    "plt.plot(train_losses, label='Train Loss')\n",
    "plt.plot(test_losses, label='Test Loss')\n",
    "plt.title('Model Loss')\n",
    "plt.xlabel('Epoch')\n",
    "plt.ylabel('Loss')\n",
    "plt.legend()"
   ]
  },
  {
   "cell_type": "markdown",
   "id": "41ff7c89-22bf-4638-b429-95c8888f7e73",
   "metadata": {},
   "source": [
    "# Plot Accuracy"
   ]
  },
  {
   "cell_type": "code",
   "execution_count": 18,
   "id": "67562dab-95c7-425e-816e-4ebb2fdf5872",
   "metadata": {},
   "outputs": [
    {
     "data": {
      "image/png": "[encoded data removed]",
      "text/plain": [
       "<Figure size 640x480 with 1 Axes>"
      ]
     },
     "metadata": {},
     "output_type": "display_data"
    }
   ],
   "source": [
    "plt.subplot(1, 2, 2)\n",
    "plt.plot(train_accs, label='Train Accuracy')\n",
    "plt.plot(test_accs, label='Test Accuracy')\n",
    "plt.title('Model Accuracy')\n",
    "plt.xlabel('Epoch')\n",
    "plt.ylabel('Accuracy')\n",
    "plt.legend()\n",
    "\n",
    "plt.tight_layout()\n",
    "plt.show()"
   ]
  },
  {
   "cell_type": "markdown",
   "id": "8d142836-060d-4ea2-9c52-0c9112f214eb",
   "metadata": {},
   "source": [
    "# Save model and training info"
   ]
  },
  {
   "cell_type": "code",
   "execution_count": 19,
   "id": "9a977b25-abf6-4a67-adef-494f488d1f04",
   "metadata": {},
   "outputs": [
    {
     "name": "stdout",
     "output_type": "stream",
     "text": [
      "\n",
      "Model saved to dmf_model.pkl\n"
     ]
    }
   ],
   "source": [
    "save_info = {\n",
    "    'model_state_dict': model.state_dict(),\n",
    "    'train_losses': train_losses,\n",
    "    'test_losses': test_losses,\n",
    "    'train_accs': train_accs,\n",
    "    'test_accs': test_accs,\n",
    "    'n_users': n_users,\n",
    "    'n_items': n_items,\n",
    "    'user_encoder': user_id_encoder,\n",
    "    'product_encoder': product_id_encoder\n",
    "}\n",
    "\n",
    "with open('dmf_model.pkl', 'wb') as f:\n",
    "    pickle.dump(save_info, f)\n",
    "print(\"\\nModel saved to dmf_model.pkl\")"
   ]
  },
  {
   "cell_type": "markdown",
   "id": "148d6793-f5e9-47fb-8029-435e3e8290a9",
   "metadata": {},
   "source": [
    "# Get recommendations with details"
   ]
  },
  {
   "cell_type": "code",
   "execution_count": 20,
   "id": "b3253e9c-2f88-411a-a48d-d861dc3e8c6d",
   "metadata": {},
   "outputs": [],
   "source": [
    "def get_recommendations_with_details(model=model, data=data, n_recommendations=5, product_id=0):\n",
    "    \"\"\"Get recommendations for a product\"\"\"\n",
    "    model.eval()\n",
    "    with torch.no_grad():\n",
    "        # Get original product ID\n",
    "        original_product_id = product_id_encoder.inverse_transform([product_id])[0]\n",
    "        \n",
    "        # Get all product embeddings\n",
    "        all_products = torch.arange(len(data['product_id'].unique()))\n",
    "        target_product = torch.tensor([product_id])\n",
    "        \n",
    "        # Get predictions\n",
    "        similarities = model(\n",
    "            target_product.repeat(len(all_products)), \n",
    "            all_products\n",
    "        ).numpy()\n",
    "        \n",
    "        # Get top recommendations\n",
    "        top_indices = np.argsort(similarities)[-n_recommendations-1:][::-1]\n",
    "        # Remove the input product if it's in the recommendations\n",
    "        top_indices = top_indices[top_indices != product_id][:n_recommendations]\n",
    "        \n",
    "        recommendations = []\n",
    "        for idx in top_indices:\n",
    "            recommended_original_id = product_id_encoder.inverse_transform([idx])[0]\n",
    "            recommended_product_details = full_data[full_data['product_id'] == recommended_original_id].iloc[0]\n",
    "            \n",
    "            recommendation_info = {\n",
    "                'product_id': recommended_original_id,\n",
    "                'product_name': recommended_product_details['product_name'],\n",
    "                'category': recommended_product_details['category'],\n",
    "                'rating': recommended_product_details['rating'],\n",
    "                'rating_count': recommended_product_details['rating_count'],\n",
    "                'img_link': recommended_product_details['img_link'],\n",
    "                'product_link': recommended_product_details['product_link'],\n",
    "                'similarity': similarities[idx]\n",
    "            }\n",
    "            recommendations.append(recommendation_info)\n",
    "            \n",
    "    return recommendations"
   ]
  },
  {
   "cell_type": "markdown",
   "id": "97d6f6df-6d5f-4c52-8374-6185b6827e03",
   "metadata": {},
   "source": [
    "# Example usage"
   ]
  },
  {
   "cell_type": "code",
   "execution_count": 21,
   "id": "2b7ce1e3-1db0-4593-9f9d-b63a49c1a027",
   "metadata": {},
   "outputs": [
    {
     "name": "stdout",
     "output_type": "stream",
     "text": [
      "\n",
      "Recommendations:\n",
      "\n",
      "Recommendation 1:\n",
      "Product Name: Portronics Ruffpad 15 Re-Writable LCD Screen 38.1cm (15-inch) Writing Pad for Drawing, Playing, Handwriting Gifts for Kids & Adults (Grey)\n",
      "Category: OfficeProducts|OfficePaperProducts|Paper|Stationery|Notebooks,WritingPads&Diaries\n",
      "Rating: 4.3 (3,530 ratings)\n",
      "Similarity Score: 0.7279\n",
      "\n",
      "Recommendation 2:\n",
      "Product Name: Amazon Brand - Solimo 2000/1000 Watts Room Heater with Adjustable Thermostat (ISI certified, White colour, Ideal for small to medium room/area)\n",
      "Category: Home&Kitchen|Heating,Cooling&AirQuality|RoomHeaters|FanHeaters\n",
      "Rating: 4 (18,543 ratings)\n",
      "Similarity Score: 0.7273\n",
      "\n",
      "Recommendation 3:\n",
      "Product Name: Samsung EVO Plus 128GB microSDXC UHS-I U3 130MB/s Full HD & 4K UHD Memory Card with Adapter (MB-MC128KA), Blue\n",
      "Category: Electronics|Accessories|MemoryCards|MicroSD\n",
      "Rating: 4.3 (1,40,036 ratings)\n",
      "Similarity Score: 0.7250\n",
      "\n",
      "Recommendation 4:\n",
      "Product Name: !!1000 Watt/2000-Watt Room Heater!! Fan Heater!!Pure White!!HN-2500!!Made in India!!\n",
      "Category: Home&Kitchen|Heating,Cooling&AirQuality|RoomHeaters|FanHeaters\n",
      "Rating: 4.5 (11 ratings)\n",
      "Similarity Score: 0.7250\n",
      "\n",
      "Recommendation 5:\n",
      "Product Name: DIGITEK® (DTR-200MT) (18 CM) Portable & Flexible Mini Tripod with Mobile Holder & 360 Degree Ball Head, For Smart Phones, Compact Cameras, GoPro, Maximum Operating Height: 7.87 Inch, Maximum Load Upto: 1 kgs\n",
      "Category: Electronics|Cameras&Photography|Accessories|Tripods&Monopods|TripodLegs\n",
      "Rating: 4.2 (6,676 ratings)\n",
      "Similarity Score: 0.7244\n"
     ]
    }
   ],
   "source": [
    "if __name__ == \"__main__\":\n",
    "    # Load model and make recommendations\n",
    "    recommendations = get_recommendations_with_details(model, data, 5, 21)\n",
    "    \n",
    "    # Print recommendations\n",
    "    print(\"\\nRecommendations:\")\n",
    "    for i, rec in enumerate(recommendations, 1):\n",
    "        print(f\"\\nRecommendation {i}:\")\n",
    "        print(f\"Product Name: {rec['product_name']}\")\n",
    "        print(f\"Category: {rec['category']}\")\n",
    "        print(f\"Rating: {rec['rating']} ({rec['rating_count']} ratings)\")\n",
    "        print(f\"Similarity Score: {rec['similarity']:.4f}\")"
   ]
  },
  {
   "cell_type": "code",
   "execution_count": null,
   "id": "c0c639a7-60b1-4504-935b-3c61122c3d1a",
   "metadata": {},
   "outputs": [],
   "source": []
  }
 ],
 "metadata": {
  "kernelspec": {
   "display_name": "Python 3 (ipykernel)",
   "language": "python",
   "name": "python3"
  },
  "language_info": {
   "codemirror_mode": {
    "name": "ipython",
    "version": 3
   },
   "file_extension": ".py",
   "mimetype": "text/x-python",
   "name": "python",
   "nbconvert_exporter": "python",
   "pygments_lexer": "ipython3",
   "version": "3.12.6"
  }
 },
 "nbformat": 4,
 "nbformat_minor": 5
}
